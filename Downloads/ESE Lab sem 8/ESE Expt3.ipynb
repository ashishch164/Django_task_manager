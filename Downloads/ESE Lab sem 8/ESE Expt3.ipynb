{
 "cells": [
  {
   "cell_type": "code",
   "execution_count": null,
   "metadata": {},
   "outputs": [],
   "source": []
  },
  {
   "cell_type": "code",
   "execution_count": null,
   "metadata": {},
   "outputs": [],
   "source": []
  },
  {
   "cell_type": "code",
   "execution_count": null,
   "metadata": {},
   "outputs": [],
   "source": []
  },
  {
   "cell_type": "code",
   "execution_count": null,
   "metadata": {},
   "outputs": [],
   "source": []
  },
  {
   "cell_type": "code",
   "execution_count": 1,
   "metadata": {},
   "outputs": [],
   "source": [
    "#this code runs on google colab for finding quantile\n",
    "#L=['CBO','DEPTH','LCOM','NOC','DOC','RFC','WMC','sumLOC_TOTAL','NUMDEFECTS']\n",
    "#for feature in L:\n",
    " #   first_quantile = np.quantile( df[feature],0.25)\n",
    "  #  second_quantile = np.quantile( df[feature],0.5)\n",
    "   # third_quantile = np.quantile( df[feature],0.75)\n",
    "    #print(\"First quantile for\", feature,\"is\",first_quantile)\n",
    "    #print(\"Second quantile for\", feature,\"is\",second_quantile)\n",
    "    #print(\"Third quantile for\", feature,\"is\",third_quantile)\n",
    "    #print(\"\\n\")"
   ]
  },
  {
   "cell_type": "code",
   "execution_count": null,
   "metadata": {},
   "outputs": [],
   "source": []
  },
  {
   "cell_type": "code",
   "execution_count": 7,
   "metadata": {},
   "outputs": [],
   "source": [
    "from scipy.io import arff\n",
    "import pandas as pd\n",
    "import numpy as np\n",
    "import csv\n",
    "import urllib.request\n",
    "import io # for io.StringIO(\n",
    "\n",
    "#url = \"http://promise.site.uottawa.ca/SERepository/datasets/kc1-class-level-numericdefect.arff\"\n",
    "\n",
    "\n",
    "\n",
    "data = arff.loadarff(r\"C:\\Users\\Ashish\\Downloads\\ESE Lab sem 8\\kc1-class-level-numericdefect.arff\")\n",
    "\n",
    "col_names=['CBO','DEPTH','LCOM','NOC','DOC','RFC','WMC','sumLOC_TOTAL','NUMDEFECTS']\n",
    "df.rename(columns = {'COUPLING_BETWEEN_OBJECTS':'CBO'}, inplace = True)\n",
    "df.rename(columns = {'LACK_OF_COHESION_OF_METHODS':'LCOM'}, inplace = True)\n",
    "df.rename(columns = {'NUM_OF_CHILDREN':'NOC'}, inplace = True)\n",
    "df.rename(columns = {'DEP_ON_CHILD':'DOC'}, inplace = True)\n",
    "df.rename(columns = {'RESPONSE_FOR_CLASS':'RFC'}, inplace = True)\n",
    "df.rename(columns = {'WEIGHTED_METHODS_PER_CLASS':'WMC'}, inplace = True)\n"
   ]
  },
  {
   "cell_type": "code",
   "execution_count": null,
   "metadata": {},
   "outputs": [],
   "source": []
  },
  {
   "cell_type": "code",
   "execution_count": 9,
   "metadata": {},
   "outputs": [
    {
     "data": {
      "text/html": [
       "<div>\n",
       "<style scoped>\n",
       "    .dataframe tbody tr th:only-of-type {\n",
       "        vertical-align: middle;\n",
       "    }\n",
       "\n",
       "    .dataframe tbody tr th {\n",
       "        vertical-align: top;\n",
       "    }\n",
       "\n",
       "    .dataframe thead th {\n",
       "        text-align: right;\n",
       "    }\n",
       "</style>\n",
       "<table border=\"1\" class=\"dataframe\">\n",
       "  <thead>\n",
       "    <tr style=\"text-align: right;\">\n",
       "      <th></th>\n",
       "      <th>PERCENT_PUB_DATA</th>\n",
       "      <th>ACCESS_TO_PUB_DATA</th>\n",
       "      <th>COUPLING_BETWEEN_OBJECTS</th>\n",
       "      <th>DEPTH</th>\n",
       "      <th>LACK_OF_COHESION_OF_METHODS</th>\n",
       "      <th>NUM_OF_CHILDREN</th>\n",
       "      <th>DEP_ON_CHILD</th>\n",
       "      <th>FAN_IN</th>\n",
       "      <th>RESPONSE_FOR_CLASS</th>\n",
       "      <th>WEIGHTED_METHODS_PER_CLASS</th>\n",
       "      <th>...</th>\n",
       "      <th>sumHALSTEAD_LENGTH</th>\n",
       "      <th>sumHALSTEAD_LEVEL</th>\n",
       "      <th>sumHALSTEAD_PROG_TIME</th>\n",
       "      <th>sumHALSTEAD_VOLUME</th>\n",
       "      <th>sumNUM_OPERANDS</th>\n",
       "      <th>sumNUM_OPERATORS</th>\n",
       "      <th>sumNUM_UNIQUE_OPERANDS</th>\n",
       "      <th>sumNUM_UNIQUE_OPERATORS</th>\n",
       "      <th>sumLOC_TOTAL</th>\n",
       "      <th>NUMDEFECTS</th>\n",
       "    </tr>\n",
       "  </thead>\n",
       "  <tbody>\n",
       "    <tr>\n",
       "      <th>0</th>\n",
       "      <td>0.0</td>\n",
       "      <td>0.0</td>\n",
       "      <td>24.0</td>\n",
       "      <td>4.0</td>\n",
       "      <td>100.0</td>\n",
       "      <td>0.0</td>\n",
       "      <td>0.0</td>\n",
       "      <td>2.0</td>\n",
       "      <td>110.0</td>\n",
       "      <td>73.0</td>\n",
       "      <td>...</td>\n",
       "      <td>7376.0</td>\n",
       "      <td>8.39</td>\n",
       "      <td>50969.11</td>\n",
       "      <td>38600.75</td>\n",
       "      <td>2575.0</td>\n",
       "      <td>4801.0</td>\n",
       "      <td>1066.0</td>\n",
       "      <td>832.0</td>\n",
       "      <td>2828.0</td>\n",
       "      <td>23.0</td>\n",
       "    </tr>\n",
       "    <tr>\n",
       "      <th>1</th>\n",
       "      <td>0.0</td>\n",
       "      <td>0.0</td>\n",
       "      <td>19.0</td>\n",
       "      <td>4.0</td>\n",
       "      <td>100.0</td>\n",
       "      <td>0.0</td>\n",
       "      <td>0.0</td>\n",
       "      <td>3.0</td>\n",
       "      <td>78.0</td>\n",
       "      <td>30.0</td>\n",
       "      <td>...</td>\n",
       "      <td>3350.0</td>\n",
       "      <td>4.40</td>\n",
       "      <td>22480.91</td>\n",
       "      <td>18081.27</td>\n",
       "      <td>1168.0</td>\n",
       "      <td>2182.0</td>\n",
       "      <td>483.0</td>\n",
       "      <td>336.0</td>\n",
       "      <td>1221.0</td>\n",
       "      <td>16.0</td>\n",
       "    </tr>\n",
       "    <tr>\n",
       "      <th>2</th>\n",
       "      <td>100.0</td>\n",
       "      <td>0.0</td>\n",
       "      <td>13.0</td>\n",
       "      <td>1.0</td>\n",
       "      <td>88.0</td>\n",
       "      <td>0.0</td>\n",
       "      <td>0.0</td>\n",
       "      <td>0.0</td>\n",
       "      <td>99.0</td>\n",
       "      <td>99.0</td>\n",
       "      <td>...</td>\n",
       "      <td>3377.0</td>\n",
       "      <td>32.51</td>\n",
       "      <td>7318.61</td>\n",
       "      <td>15736.22</td>\n",
       "      <td>1278.0</td>\n",
       "      <td>2099.0</td>\n",
       "      <td>813.0</td>\n",
       "      <td>608.0</td>\n",
       "      <td>1522.0</td>\n",
       "      <td>3.0</td>\n",
       "    </tr>\n",
       "    <tr>\n",
       "      <th>3</th>\n",
       "      <td>0.0</td>\n",
       "      <td>0.0</td>\n",
       "      <td>21.0</td>\n",
       "      <td>4.0</td>\n",
       "      <td>100.0</td>\n",
       "      <td>0.0</td>\n",
       "      <td>0.0</td>\n",
       "      <td>2.0</td>\n",
       "      <td>68.0</td>\n",
       "      <td>30.0</td>\n",
       "      <td>...</td>\n",
       "      <td>3745.0</td>\n",
       "      <td>3.95</td>\n",
       "      <td>22958.05</td>\n",
       "      <td>20114.74</td>\n",
       "      <td>1393.0</td>\n",
       "      <td>2352.0</td>\n",
       "      <td>551.0</td>\n",
       "      <td>333.0</td>\n",
       "      <td>1408.0</td>\n",
       "      <td>19.0</td>\n",
       "    </tr>\n",
       "    <tr>\n",
       "      <th>4</th>\n",
       "      <td>5.0</td>\n",
       "      <td>0.0</td>\n",
       "      <td>17.0</td>\n",
       "      <td>2.0</td>\n",
       "      <td>90.0</td>\n",
       "      <td>0.0</td>\n",
       "      <td>0.0</td>\n",
       "      <td>1.0</td>\n",
       "      <td>69.0</td>\n",
       "      <td>36.0</td>\n",
       "      <td>...</td>\n",
       "      <td>1412.0</td>\n",
       "      <td>15.06</td>\n",
       "      <td>5723.73</td>\n",
       "      <td>7030.53</td>\n",
       "      <td>509.0</td>\n",
       "      <td>903.0</td>\n",
       "      <td>290.0</td>\n",
       "      <td>229.0</td>\n",
       "      <td>504.0</td>\n",
       "      <td>6.0</td>\n",
       "    </tr>\n",
       "  </tbody>\n",
       "</table>\n",
       "<p>5 rows × 95 columns</p>\n",
       "</div>"
      ],
      "text/plain": [
       "   PERCENT_PUB_DATA  ACCESS_TO_PUB_DATA  COUPLING_BETWEEN_OBJECTS  DEPTH  \\\n",
       "0               0.0                 0.0                      24.0    4.0   \n",
       "1               0.0                 0.0                      19.0    4.0   \n",
       "2             100.0                 0.0                      13.0    1.0   \n",
       "3               0.0                 0.0                      21.0    4.0   \n",
       "4               5.0                 0.0                      17.0    2.0   \n",
       "\n",
       "   LACK_OF_COHESION_OF_METHODS  NUM_OF_CHILDREN  DEP_ON_CHILD  FAN_IN  \\\n",
       "0                        100.0              0.0           0.0     2.0   \n",
       "1                        100.0              0.0           0.0     3.0   \n",
       "2                         88.0              0.0           0.0     0.0   \n",
       "3                        100.0              0.0           0.0     2.0   \n",
       "4                         90.0              0.0           0.0     1.0   \n",
       "\n",
       "   RESPONSE_FOR_CLASS  WEIGHTED_METHODS_PER_CLASS     ...      \\\n",
       "0               110.0                        73.0     ...       \n",
       "1                78.0                        30.0     ...       \n",
       "2                99.0                        99.0     ...       \n",
       "3                68.0                        30.0     ...       \n",
       "4                69.0                        36.0     ...       \n",
       "\n",
       "   sumHALSTEAD_LENGTH  sumHALSTEAD_LEVEL  sumHALSTEAD_PROG_TIME  \\\n",
       "0              7376.0               8.39               50969.11   \n",
       "1              3350.0               4.40               22480.91   \n",
       "2              3377.0              32.51                7318.61   \n",
       "3              3745.0               3.95               22958.05   \n",
       "4              1412.0              15.06                5723.73   \n",
       "\n",
       "   sumHALSTEAD_VOLUME  sumNUM_OPERANDS  sumNUM_OPERATORS  \\\n",
       "0            38600.75           2575.0            4801.0   \n",
       "1            18081.27           1168.0            2182.0   \n",
       "2            15736.22           1278.0            2099.0   \n",
       "3            20114.74           1393.0            2352.0   \n",
       "4             7030.53            509.0             903.0   \n",
       "\n",
       "   sumNUM_UNIQUE_OPERANDS  sumNUM_UNIQUE_OPERATORS  sumLOC_TOTAL  NUMDEFECTS  \n",
       "0                  1066.0                    832.0        2828.0        23.0  \n",
       "1                   483.0                    336.0        1221.0        16.0  \n",
       "2                   813.0                    608.0        1522.0         3.0  \n",
       "3                   551.0                    333.0        1408.0        19.0  \n",
       "4                   290.0                    229.0         504.0         6.0  \n",
       "\n",
       "[5 rows x 95 columns]"
      ]
     },
     "execution_count": 9,
     "metadata": {},
     "output_type": "execute_result"
    }
   ],
   "source": [
    "df = pd.DataFrame(data[0])\n",
    "df.head()"
   ]
  },
  {
   "cell_type": "code",
   "execution_count": 45,
   "metadata": {},
   "outputs": [],
   "source": [
    "feature_cols = ['COUPLING_BETWEEN_OBJECTS', 'DEPTH', 'LACK_OF_COHESION_OF_METHODS', 'NUM_OF_CHILDREN','DEP_ON_CHILD']\n",
    "\n",
    "X = df[feature_cols]\n",
    "\n",
    "y = df.loc[:,'PERCENT_PUB_DATA']"
   ]
  },
  {
   "cell_type": "code",
   "execution_count": 46,
   "metadata": {},
   "outputs": [],
   "source": [
    "from sklearn.cross_validation import train_test_split\n",
    "X_train, X_test, y_train, y_test = train_test_split(X, y, random_state=0)"
   ]
  },
  {
   "cell_type": "code",
   "execution_count": 47,
   "metadata": {},
   "outputs": [
    {
     "data": {
      "text/plain": [
       "LogisticRegression(C=1.0, class_weight=None, dual=False, fit_intercept=True,\n",
       "          intercept_scaling=1, max_iter=100, multi_class='ovr', n_jobs=1,\n",
       "          penalty='l2', random_state=None, solver='liblinear', tol=0.0001,\n",
       "          verbose=0, warm_start=False)"
      ]
     },
     "execution_count": 47,
     "metadata": {},
     "output_type": "execute_result"
    }
   ],
   "source": [
    "from sklearn.linear_model import LogisticRegression\n",
    "\n",
    "# instantiate model\n",
    "logreg = LogisticRegression()\n",
    "\n",
    "# fit model\n",
    "logreg.fit(X_train, y_train)"
   ]
  },
  {
   "cell_type": "code",
   "execution_count": 48,
   "metadata": {},
   "outputs": [],
   "source": [
    "y_pred_class = logreg.predict(X_test)"
   ]
  },
  {
   "cell_type": "code",
   "execution_count": 50,
   "metadata": {},
   "outputs": [
    {
     "name": "stdout",
     "output_type": "stream",
     "text": [
      "Classification Accuracy is 0.7297297297297297\n"
     ]
    }
   ],
   "source": [
    "from sklearn import metrics\n",
    "print(\"Classification Accuracy is\",metrics.accuracy_score(y_test, y_pred_class))"
   ]
  },
  {
   "cell_type": "code",
   "execution_count": 51,
   "metadata": {},
   "outputs": [
    {
     "data": {
      "text/plain": [
       "0.0      28\n",
       "100.0     6\n",
       "95.0      1\n",
       "11.0      1\n",
       "50.0      1\n",
       "Name: PERCENT_PUB_DATA, dtype: int64"
      ]
     },
     "execution_count": 51,
     "metadata": {},
     "output_type": "execute_result"
    }
   ],
   "source": [
    "# examine the class distribution of the testing set (using a Pandas Series method)\n",
    "y_test.value_counts()"
   ]
  },
  {
   "cell_type": "code",
   "execution_count": 52,
   "metadata": {},
   "outputs": [
    {
     "data": {
      "text/plain": [
       "20.43243243243243"
      ]
     },
     "execution_count": 52,
     "metadata": {},
     "output_type": "execute_result"
    }
   ],
   "source": [
    "# calculate the percentage of ones\n",
    "# because y_test only contains ones and zeros, we can simply calculate the mean = percentage of ones\n",
    "y_test.mean()"
   ]
  },
  {
   "cell_type": "code",
   "execution_count": 53,
   "metadata": {},
   "outputs": [
    {
     "data": {
      "text/plain": [
       "-19.43243243243243"
      ]
     },
     "execution_count": 53,
     "metadata": {},
     "output_type": "execute_result"
    }
   ],
   "source": [
    "# calculate the percentage of zeros\n",
    "1 - y_test.mean()"
   ]
  },
  {
   "cell_type": "code",
   "execution_count": 54,
   "metadata": {},
   "outputs": [
    {
     "data": {
      "text/plain": [
       "20.43243243243243"
      ]
     },
     "execution_count": 54,
     "metadata": {},
     "output_type": "execute_result"
    }
   ],
   "source": [
    "# calculate null accuracy in a single line of code\n",
    "# only for binary classification problems coded as 0/1\n",
    "max(y_test.mean(), 1 - y_test.mean())"
   ]
  },
  {
   "cell_type": "code",
   "execution_count": 55,
   "metadata": {},
   "outputs": [
    {
     "data": {
      "text/plain": [
       "0.0    0.756757\n",
       "Name: PERCENT_PUB_DATA, dtype: float64"
      ]
     },
     "execution_count": 55,
     "metadata": {},
     "output_type": "execute_result"
    }
   ],
   "source": [
    "# calculate null accuracy (for multi-class classification problems)\n",
    "y_test.value_counts().head(1) / len(y_test)"
   ]
  },
  {
   "cell_type": "code",
   "execution_count": 56,
   "metadata": {},
   "outputs": [
    {
     "name": "stdout",
     "output_type": "stream",
     "text": [
      "True: [  0.   0. 100.   0.   0.   0.   0.   0.   0.   0. 100.   0.   0.   0.\n",
      "  50.   0.   0.   0.   0.   0. 100. 100.   0.   0.  11.]\n",
      "False: [0. 0. 0. 0. 0. 0. 0. 0. 0. 0. 0. 0. 0. 0. 0. 0. 0. 0. 0. 0. 0. 0. 0. 0.\n",
      " 0.]\n"
     ]
    }
   ],
   "source": [
    "# print the first 25 true and predicted responses\n",
    "print('True:', y_test.values[0:25])\n",
    "print('False:', y_pred_class[0:25])"
   ]
  },
  {
   "cell_type": "code",
   "execution_count": 57,
   "metadata": {},
   "outputs": [],
   "source": [
    "#CONFUSION MATRIX"
   ]
  },
  {
   "cell_type": "code",
   "execution_count": 58,
   "metadata": {},
   "outputs": [
    {
     "name": "stdout",
     "output_type": "stream",
     "text": [
      "[[27  0  1  0  0  0]\n",
      " [ 1  0  0  0  0  0]\n",
      " [ 0  0  0  0  0  0]\n",
      " [ 1  0  0  0  0  0]\n",
      " [ 1  0  0  0  0  0]\n",
      " [ 6  0  0  0  0  0]]\n"
     ]
    }
   ],
   "source": [
    "# IMPORTANT: first argument is true values, second argument is predicted values\n",
    "# this produces a 2x2 numpy array (matrix)\n",
    "print(metrics.confusion_matrix(y_test, y_pred_class))"
   ]
  },
  {
   "cell_type": "code",
   "execution_count": 59,
   "metadata": {},
   "outputs": [
    {
     "name": "stdout",
     "output_type": "stream",
     "text": [
      "True [  0.   0. 100.   0.   0.   0.   0.   0.   0.   0. 100.   0.   0.   0.\n",
      "  50.   0.   0.   0.   0.   0. 100. 100.   0.   0.  11.]\n",
      "Pred [0. 0. 0. 0. 0. 0. 0. 0. 0. 0. 0. 0. 0. 0. 0. 0. 0. 0. 0. 0. 0. 0. 0. 0.\n",
      " 0.]\n"
     ]
    }
   ],
   "source": [
    "# print the first 25 true and predicted responses\n",
    "print('True', y_test.values[0:25])\n",
    "print('Pred', y_pred_class[0:25])"
   ]
  },
  {
   "cell_type": "code",
   "execution_count": 60,
   "metadata": {},
   "outputs": [
    {
     "name": "stdout",
     "output_type": "stream",
     "text": [
      "[[27  0  1  0  0  0]\n",
      " [ 1  0  0  0  0  0]\n",
      " [ 0  0  0  0  0  0]\n",
      " [ 1  0  0  0  0  0]\n",
      " [ 1  0  0  0  0  0]\n",
      " [ 6  0  0  0  0  0]]\n"
     ]
    }
   ],
   "source": [
    "confusion = metrics.confusion_matrix(y_test, y_pred_class)\n",
    "print(confusion)\n",
    "#[row, column]\n",
    "TP = confusion[1, 1]\n",
    "TN = confusion[0, 0]\n",
    "FP = confusion[0, 1]\n",
    "FN = confusion[1, 0]"
   ]
  },
  {
   "cell_type": "code",
   "execution_count": 61,
   "metadata": {},
   "outputs": [
    {
     "name": "stdout",
     "output_type": "stream",
     "text": [
      "0.9642857142857143\n",
      "0.7297297297297297\n"
     ]
    }
   ],
   "source": [
    "\n",
    "print((TP + TN) / float(TP + TN + FP + FN))\n",
    "print(metrics.accuracy_score(y_test, y_pred_class))"
   ]
  },
  {
   "cell_type": "code",
   "execution_count": 62,
   "metadata": {},
   "outputs": [
    {
     "name": "stdout",
     "output_type": "stream",
     "text": [
      "0.03571428571428571\n",
      "0.2702702702702703\n"
     ]
    }
   ],
   "source": [
    "classification_error = (FP + FN) / float(TP + TN + FP + FN)\n",
    "\n",
    "print(classification_error)\n",
    "print(1 - metrics.accuracy_score(y_test, y_pred_class))"
   ]
  },
  {
   "cell_type": "code",
   "execution_count": 64,
   "metadata": {},
   "outputs": [
    {
     "name": "stdout",
     "output_type": "stream",
     "text": [
      "1.0\n"
     ]
    }
   ],
   "source": [
    "specificity = TN / (TN + FP)\n",
    "\n",
    "print(specificity)"
   ]
  },
  {
   "cell_type": "code",
   "execution_count": 67,
   "metadata": {},
   "outputs": [
    {
     "name": "stdout",
     "output_type": "stream",
     "text": [
      "0.0\n",
      "0.0\n"
     ]
    }
   ],
   "source": [
    "false_positive_rate = FP / float(TN + FP)\n",
    "\n",
    "print(false_positive_rate)\n",
    "print(1 - specificity)"
   ]
  },
  {
   "cell_type": "code",
   "execution_count": 68,
   "metadata": {},
   "outputs": [
    {
     "name": "stdout",
     "output_type": "stream",
     "text": [
      "nan\n"
     ]
    },
    {
     "name": "stderr",
     "output_type": "stream",
     "text": [
      "C:\\Users\\Ashish\\Anaconda3.6\\lib\\site-packages\\ipykernel_launcher.py:1: RuntimeWarning: invalid value encountered in true_divide\n",
      "  \"\"\"Entry point for launching an IPython kernel.\n"
     ]
    },
    {
     "ename": "ValueError",
     "evalue": "Target is multiclass but average='binary'. Please choose another average setting.",
     "output_type": "error",
     "traceback": [
      "\u001b[1;31m---------------------------------------------------------------------------\u001b[0m",
      "\u001b[1;31mValueError\u001b[0m                                Traceback (most recent call last)",
      "\u001b[1;32m<ipython-input-68-55d24c094891>\u001b[0m in \u001b[0;36m<module>\u001b[1;34m()\u001b[0m\n\u001b[0;32m      2\u001b[0m \u001b[1;33m\u001b[0m\u001b[0m\n\u001b[0;32m      3\u001b[0m \u001b[0mprint\u001b[0m\u001b[1;33m(\u001b[0m\u001b[0mprecision\u001b[0m\u001b[1;33m)\u001b[0m\u001b[1;33m\u001b[0m\u001b[0m\n\u001b[1;32m----> 4\u001b[1;33m \u001b[0mprint\u001b[0m\u001b[1;33m(\u001b[0m\u001b[0mmetrics\u001b[0m\u001b[1;33m.\u001b[0m\u001b[0mprecision_score\u001b[0m\u001b[1;33m(\u001b[0m\u001b[0my_test\u001b[0m\u001b[1;33m,\u001b[0m \u001b[0my_pred_class\u001b[0m\u001b[1;33m)\u001b[0m\u001b[1;33m)\u001b[0m\u001b[1;33m\u001b[0m\u001b[0m\n\u001b[0m",
      "\u001b[1;32m~\\Anaconda3.6\\lib\\site-packages\\sklearn\\metrics\\classification.py\u001b[0m in \u001b[0;36mprecision_score\u001b[1;34m(y_true, y_pred, labels, pos_label, average, sample_weight)\u001b[0m\n\u001b[0;32m   1259\u001b[0m                                                  \u001b[0maverage\u001b[0m\u001b[1;33m=\u001b[0m\u001b[0maverage\u001b[0m\u001b[1;33m,\u001b[0m\u001b[1;33m\u001b[0m\u001b[0m\n\u001b[0;32m   1260\u001b[0m                                                  \u001b[0mwarn_for\u001b[0m\u001b[1;33m=\u001b[0m\u001b[1;33m(\u001b[0m\u001b[1;34m'precision'\u001b[0m\u001b[1;33m,\u001b[0m\u001b[1;33m)\u001b[0m\u001b[1;33m,\u001b[0m\u001b[1;33m\u001b[0m\u001b[0m\n\u001b[1;32m-> 1261\u001b[1;33m                                                  sample_weight=sample_weight)\n\u001b[0m\u001b[0;32m   1262\u001b[0m     \u001b[1;32mreturn\u001b[0m \u001b[0mp\u001b[0m\u001b[1;33m\u001b[0m\u001b[0m\n\u001b[0;32m   1263\u001b[0m \u001b[1;33m\u001b[0m\u001b[0m\n",
      "\u001b[1;32m~\\Anaconda3.6\\lib\\site-packages\\sklearn\\metrics\\classification.py\u001b[0m in \u001b[0;36mprecision_recall_fscore_support\u001b[1;34m(y_true, y_pred, beta, labels, pos_label, average, warn_for, sample_weight)\u001b[0m\n\u001b[0;32m   1038\u001b[0m         \u001b[1;32melse\u001b[0m\u001b[1;33m:\u001b[0m\u001b[1;33m\u001b[0m\u001b[0m\n\u001b[0;32m   1039\u001b[0m             raise ValueError(\"Target is %s but average='binary'. Please \"\n\u001b[1;32m-> 1040\u001b[1;33m                              \"choose another average setting.\" % y_type)\n\u001b[0m\u001b[0;32m   1041\u001b[0m     \u001b[1;32melif\u001b[0m \u001b[0mpos_label\u001b[0m \u001b[1;32mnot\u001b[0m \u001b[1;32min\u001b[0m \u001b[1;33m(\u001b[0m\u001b[1;32mNone\u001b[0m\u001b[1;33m,\u001b[0m \u001b[1;36m1\u001b[0m\u001b[1;33m)\u001b[0m\u001b[1;33m:\u001b[0m\u001b[1;33m\u001b[0m\u001b[0m\n\u001b[0;32m   1042\u001b[0m         warnings.warn(\"Note that pos_label (set to %r) is ignored when \"\n",
      "\u001b[1;31mValueError\u001b[0m: Target is multiclass but average='binary'. Please choose another average setting."
     ]
    }
   ],
   "source": [
    "precision = TP / float(TP + FP)\n",
    "\n",
    "print(precision)\n",
    "print(metrics.precision_score(y_test, y_pred_class))"
   ]
  },
  {
   "cell_type": "code",
   "execution_count": 69,
   "metadata": {},
   "outputs": [
    {
     "data": {
      "text/plain": [
       "array([0., 0., 0., 0., 0., 0., 0., 0., 0., 0.])"
      ]
     },
     "execution_count": 69,
     "metadata": {},
     "output_type": "execute_result"
    }
   ],
   "source": [
    "logreg.predict(X_test)[0:10]"
   ]
  },
  {
   "cell_type": "code",
   "execution_count": 70,
   "metadata": {},
   "outputs": [
    {
     "data": {
      "text/plain": [
       "array([[8.46627861e-01, 1.27295211e-02, 8.67607322e-06, 8.06023499e-03,\n",
       "        6.31538316e-03, 2.72812890e-03, 6.28546365e-03, 1.59395966e-02,\n",
       "        2.30588649e-02, 1.26633799e-02, 6.55828903e-02],\n",
       "       [7.29961779e-01, 4.11365331e-02, 5.17944719e-06, 4.89276827e-03,\n",
       "        1.37837345e-02, 5.50046872e-03, 1.37314169e-02, 2.63033872e-02,\n",
       "        3.52099338e-02, 1.93129091e-02, 1.10161890e-01],\n",
       "       [5.97560002e-01, 1.52262111e-02, 5.51066476e-03, 2.65735769e-02,\n",
       "        2.50317457e-02, 4.52318257e-03, 2.46519579e-02, 4.65260574e-02,\n",
       "        2.27698631e-02, 4.59667069e-02, 1.85660031e-01],\n",
       "       [8.39539292e-01, 1.28112888e-02, 3.38350490e-05, 1.20010178e-02,\n",
       "        7.74610716e-03, 3.68146918e-03, 7.71820015e-03, 1.80585071e-02,\n",
       "        2.41141717e-02, 1.51582940e-02, 5.91378168e-02],\n",
       "       [7.72568437e-01, 1.68983943e-03, 3.13433010e-02, 8.77700942e-02,\n",
       "        6.16246208e-03, 1.94177357e-03, 6.08874557e-03, 1.73032182e-02,\n",
       "        1.08477264e-02, 2.06955701e-02, 4.35888324e-02],\n",
       "       [6.65974982e-01, 2.55714080e-02, 9.31753396e-04, 1.88430929e-02,\n",
       "        2.39734827e-02, 7.39866837e-03, 2.37846518e-02, 4.06892472e-02,\n",
       "        3.01242642e-02, 3.71363740e-02, 1.25572076e-01],\n",
       "       [9.65210775e-01, 4.71038275e-04, 5.03707340e-06, 1.85220647e-02,\n",
       "        4.18395201e-04, 4.97432822e-04, 4.19689796e-04, 2.05580233e-03,\n",
       "        6.32094432e-03, 1.92643481e-03, 4.15238589e-03],\n",
       "       [5.09564490e-01, 1.06902096e-02, 6.17910764e-02, 4.59953298e-02,\n",
       "        2.96376289e-02, 4.64760437e-03, 2.91257622e-02, 5.21302851e-02,\n",
       "        1.89195122e-02, 5.70996480e-02, 1.80398453e-01],\n",
       "       [6.31678218e-01, 1.94383696e-02, 3.15038940e-03, 2.44255652e-02,\n",
       "        2.54738517e-02, 6.06412814e-03, 2.51818344e-02, 4.45882958e-02,\n",
       "        2.61525616e-02, 4.29095450e-02, 1.50937241e-01],\n",
       "       [7.14780266e-01, 4.50551373e-02, 4.15146912e-05, 9.24405125e-03,\n",
       "        1.93982595e-02, 1.00763508e-02, 1.93883461e-02, 3.16759791e-02,\n",
       "        3.96449276e-02, 2.52678912e-02, 8.54272760e-02]])"
      ]
     },
     "execution_count": 70,
     "metadata": {},
     "output_type": "execute_result"
    }
   ],
   "source": [
    "logreg.predict_proba(X_test)[0:10]"
   ]
  },
  {
   "cell_type": "code",
   "execution_count": 71,
   "metadata": {},
   "outputs": [
    {
     "data": {
      "text/plain": [
       "array([0.01272952, 0.04113653, 0.01522621, 0.01281129, 0.00168984,\n",
       "       0.02557141, 0.00047104, 0.01069021, 0.01943837, 0.04505514])"
      ]
     },
     "execution_count": 71,
     "metadata": {},
     "output_type": "execute_result"
    }
   ],
   "source": [
    "logreg.predict_proba(X_test)[0:10, 1]"
   ]
  },
  {
   "cell_type": "code",
   "execution_count": 72,
   "metadata": {},
   "outputs": [],
   "source": [
    "# store the predicted probabilities for class 1\n",
    "y_pred_prob = logreg.predict_proba(X_test)[:, 1]"
   ]
  },
  {
   "cell_type": "code",
   "execution_count": 73,
   "metadata": {},
   "outputs": [],
   "source": [
    "# allow plots to appear in the notebook\n",
    "%matplotlib inline\n",
    "import matplotlib.pyplot as plt\n",
    "\n",
    "# adjust the font size \n",
    "plt.rcParams['font.size'] = 12"
   ]
  },
  {
   "cell_type": "code",
   "execution_count": 74,
   "metadata": {},
   "outputs": [
    {
     "data": {
      "text/plain": [
       "Text(0,0.5,'Frequency')"
      ]
     },
     "execution_count": 74,
     "metadata": {},
     "output_type": "execute_result"
    },
    {
     "data": {
      "image/png": "[encoded data removed]",
      "text/plain": [
       "<Figure size 432x288 with 1 Axes>"
      ]
     },
     "metadata": {},
     "output_type": "display_data"
    }
   ],
   "source": [
    "# histogram of predicted probabilities\n",
    "\n",
    "# 8 bins\n",
    "plt.hist(y_pred_prob, bins=8)\n",
    "\n",
    "# x-axis limit from 0 to 1\n",
    "plt.xlim(0,1)\n",
    "plt.title('Histogram of predicted probabilities')\n",
    "plt.xlabel('Predicted probability of diabetes')\n",
    "plt.ylabel('Frequency')"
   ]
  },
  {
   "cell_type": "code",
   "execution_count": 78,
   "metadata": {},
   "outputs": [
    {
     "name": "stdout",
     "output_type": "stream",
     "text": [
      "0.9384092289227242\n"
     ]
    }
   ],
   "source": [
    "#Completeness Score\n",
    "from sklearn.metrics.cluster import completeness_score\n",
    "print(1-completeness_score(y_test,y_pred_class))\n"
   ]
  },
  {
   "cell_type": "code",
   "execution_count": null,
   "metadata": {},
   "outputs": [],
   "source": []
  }
 ],
 "metadata": {
  "kernelspec": {
   "display_name": "Python 3",
   "language": "python",
   "name": "python3"
  },
  "language_info": {
   "codemirror_mode": {
    "name": "ipython",
    "version": 3
   },
   "file_extension": ".py",
   "mimetype": "text/x-python",
   "name": "python",
   "nbconvert_exporter": "python",
   "pygments_lexer": "ipython3",
   "version": "3.6.5"
  }
 },
 "nbformat": 4,
 "nbformat_minor": 2
}
